{
  "nbformat": 4,
  "nbformat_minor": 0,
  "metadata": {
    "colab": {
      "provenance": []
    },
    "kernelspec": {
      "name": "python3",
      "display_name": "Python 3"
    },
    "language_info": {
      "name": "python"
    }
  },
  "cells": [
    {
      "cell_type": "code",
      "execution_count": null,
      "metadata": {
        "id": "cb8WJlvtEHEW"
      },
      "outputs": [],
      "source": [
        "import numpy as np\n",
        "\n",
        "# Definição dos estados do clima\n",
        "states = [\"Ensolarado\", \"Nublado\", \"Chuvoso\"]\n",
        "\n",
        "# Matriz de transição de estados\n",
        "# As probabilidades em cada linha somam 1\n",
        "transition_matrix = [\n",
        "    [0.8, 0.15, 0.05],  # Transições a partir de \"Ensolarado\"\n",
        "    [0.2, 0.6, 0.2],    # Transições a partir de \"Nublado\"\n",
        "    [0.25, 0.25, 0.5]   # Transições a partir de \"Chuvoso\"\n",
        "]\n",
        "\n",
        "# Estado inicial\n",
        "initial_state = \"Ensolarado\"\n",
        "\n",
        "# Número de dias a prever\n",
        "num_days = 10\n",
        "\n",
        "# Função para encontrar o índice de um estado\n",
        "def get_state_index(state):\n",
        "    return states.index(state)\n",
        "\n",
        "# Função para prever o clima para os próximos dias\n",
        "def predict_weather(initial_state, num_days):\n",
        "    current_state = initial_state\n",
        "    forecast = [current_state]\n",
        "\n",
        "    for _ in range(num_days - 1):\n",
        "        current_index = get_state_index(current_state)\n",
        "        next_state = np.random.choice(\n",
        "            states,\n",
        "            p=transition_matrix[current_index]\n",
        "        )\n",
        "        forecast.append(next_state)\n",
        "        current_state = next_state\n",
        "\n",
        "    return forecast\n",
        "\n",
        "# Realizar a previsão\n",
        "forecast = predict_weather(initial_state, num_days)\n",
        "\n",
        "# Exibir a previsão\n",
        "print(f\"Estado inicial: {initial_state}\")\n",
        "print(\"Previsão para os próximos dias:\")\n",
        "for day, state in enumerate(forecast, start=1):\n",
        "    print(f\"Dia {day}: {state}\")"
      ]
    }
  ]
}